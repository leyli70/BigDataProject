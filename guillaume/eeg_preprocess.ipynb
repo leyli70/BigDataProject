{
 "cells": [
  {
   "cell_type": "markdown",
   "metadata": {},
   "source": [
    "# Imports"
   ]
  },
  {
   "cell_type": "code",
   "execution_count": null,
   "metadata": {
    "ExecuteTime": {
     "end_time": "2019-03-19T21:14:21.719916Z",
     "start_time": "2019-03-19T21:14:20.111224Z"
    }
   },
   "outputs": [],
   "source": [
    "import numpy as np\n",
    "import pandas as pd\n",
    "\n",
    "import mne\n",
    "from mne.io import read_raw_edf\n",
    "from mne.filter import notch_filter, filter_data"
   ]
  },
  {
   "cell_type": "markdown",
   "metadata": {},
   "source": [
    "# Config"
   ]
  },
  {
   "cell_type": "code",
   "execution_count": null,
   "metadata": {
    "ExecuteTime": {
     "end_time": "2019-03-19T21:14:21.726357Z",
     "start_time": "2019-03-19T21:14:21.722373Z"
    }
   },
   "outputs": [],
   "source": [
    "class Config:\n",
    "    def __init__(self, data_path='/Users/guillaumecorda/Desktop/UvA/Big Data/Project/data/'):\n",
    "        self.data_path = data_path"
   ]
  },
  {
   "cell_type": "code",
   "execution_count": null,
   "metadata": {
    "ExecuteTime": {
     "end_time": "2019-03-19T21:14:21.731920Z",
     "start_time": "2019-03-19T21:14:21.728836Z"
    }
   },
   "outputs": [],
   "source": [
    "cfg = Config()"
   ]
  },
  {
   "cell_type": "markdown",
   "metadata": {},
   "source": [
    "# Metadata"
   ]
  },
  {
   "cell_type": "markdown",
   "metadata": {},
   "source": [
    "**File Name: chb01_01.edf**\n",
    "* File Start Time: 11:42:54\n",
    "* File End Time: 12:42:54\n",
    "* Number of Seizures in File: 0\n",
    "\n",
    "**File Name: chb01_02.edf**\n",
    "* File Start Time: 12:42:57\n",
    "* File End Time: 13:42:57\n",
    "* Number of Seizures in File: 0\n",
    "\n",
    "**File Name: chb01_03.edf**\n",
    "* File Start Time: 13:43:04\n",
    "* File End Time: 14:43:04\n",
    "* Number of Seizures in File: 1\n",
    "* Seizure Start Time: 2996 seconds\n",
    "* Seizure End Time: 3036 seconds\n",
    "\n",
    "**File Name: chb01_04.edf**\n",
    "* File Start Time: 14:43:12\n",
    "* File End Time: 15:43:12\n",
    "* Number of Seizures in File: 1\n",
    "* Seizure Start Time: 1467 seconds\n",
    "* Seizure End Time: 1494 seconds"
   ]
  },
  {
   "cell_type": "markdown",
   "metadata": {},
   "source": [
    "# Load data"
   ]
  },
  {
   "cell_type": "code",
   "execution_count": null,
   "metadata": {
    "ExecuteTime": {
     "end_time": "2019-03-19T21:14:24.664921Z",
     "start_time": "2019-03-19T21:14:21.735793Z"
    },
    "scrolled": true
   },
   "outputs": [],
   "source": [
    "raw_1 = read_raw_edf(cfg.data_path+'chb01_01.edf', preload=True)\n",
    "raw_2 = read_raw_edf(cfg.data_path+'chb01_02.edf', preload=True)\n",
    "raw_3 = read_raw_edf(cfg.data_path+'chb01_03.edf', preload=True)\n",
    "raw_4 = read_raw_edf(cfg.data_path+'chb01_04.edf', preload=True)"
   ]
  },
  {
   "cell_type": "code",
   "execution_count": null,
   "metadata": {
    "ExecuteTime": {
     "end_time": "2019-03-19T21:14:24.739883Z",
     "start_time": "2019-03-19T21:14:24.669017Z"
    },
    "scrolled": true
   },
   "outputs": [],
   "source": [
    "raw_1.set_eeg_reference('average', projection=True)  # set EEG average reference\n",
    "raw_2.set_eeg_reference('average', projection=True)  # set EEG average reference\n",
    "raw_3.set_eeg_reference('average', projection=True)  # set EEG average reference\n",
    "raw_4.set_eeg_reference('average', projection=True)  # set EEG average reference"
   ]
  },
  {
   "cell_type": "code",
   "execution_count": null,
   "metadata": {
    "ExecuteTime": {
     "end_time": "2019-03-19T21:14:26.052717Z",
     "start_time": "2019-03-19T21:14:24.756402Z"
    },
    "scrolled": true
   },
   "outputs": [],
   "source": [
    "raw_1.plot(block=True, lowpass=40)"
   ]
  },
  {
   "cell_type": "code",
   "execution_count": null,
   "metadata": {
    "ExecuteTime": {
     "end_time": "2019-03-19T21:14:29.841351Z",
     "start_time": "2019-03-19T21:14:26.055975Z"
    },
    "scrolled": true
   },
   "outputs": [],
   "source": [
    "for raw in [raw_1, raw_2, raw_3, raw_4]:\n",
    "    fmin, fmax = 2, 300  # look at frequencies between 2 and 300Hz\n",
    "    n_fft = 2048  # the FFT size (n_fft). Ideally a power of 2\n",
    "\n",
    "    picks = mne.pick_types(raw.info, eeg=True, eog=False, stim=False, exclude='bads')\n",
    "\n",
    "    # Let's first check out all channel types\n",
    "    raw.plot_psd(area_mode='range', tmax=10.0, picks=picks)"
   ]
  },
  {
   "cell_type": "markdown",
   "metadata": {
    "ExecuteTime": {
     "end_time": "2019-03-19T15:14:01.312203Z",
     "start_time": "2019-03-19T15:14:01.306549Z"
    }
   },
   "source": [
    "# Helper functions"
   ]
  },
  {
   "cell_type": "code",
   "execution_count": null,
   "metadata": {
    "ExecuteTime": {
     "end_time": "2019-03-19T21:14:29.850952Z",
     "start_time": "2019-03-19T21:14:29.843980Z"
    }
   },
   "outputs": [],
   "source": [
    "def get_sampl_freq(raw):\n",
    "    return raw.info['sfreq']"
   ]
  },
  {
   "cell_type": "code",
   "execution_count": null,
   "metadata": {
    "ExecuteTime": {
     "end_time": "2019-03-19T21:14:29.863913Z",
     "start_time": "2019-03-19T21:14:29.857502Z"
    }
   },
   "outputs": [],
   "source": [
    "def get_channels_names(raw):\n",
    "    return raw.info['ch_names']"
   ]
  },
  {
   "cell_type": "code",
   "execution_count": null,
   "metadata": {
    "ExecuteTime": {
     "end_time": "2019-03-19T21:14:29.875721Z",
     "start_time": "2019-03-19T21:14:29.867275Z"
    }
   },
   "outputs": [],
   "source": [
    "sf_1 = get_sampl_freq(raw_1)\n",
    "sf_2 = get_sampl_freq(raw_2)\n",
    "sf_3 = get_sampl_freq(raw_3)\n",
    "sf_4 = get_sampl_freq(raw_4)"
   ]
  },
  {
   "cell_type": "markdown",
   "metadata": {},
   "source": [
    "# Preprocessing"
   ]
  },
  {
   "cell_type": "markdown",
   "metadata": {},
   "source": [
    "## Removing power line frequency"
   ]
  },
  {
   "cell_type": "code",
   "execution_count": null,
   "metadata": {
    "ExecuteTime": {
     "end_time": "2019-03-19T21:14:32.098857Z",
     "start_time": "2019-03-19T21:14:29.878892Z"
    },
    "scrolled": true
   },
   "outputs": [],
   "source": [
    "filtered_data = notch_filter(raw.get_data(), sf_1, np.arange(48, 52, 4000), picks=picks, filter_length='auto', phase='zero')\n",
    "raw_1_filt = mne.io.RawArray(filtered_data, raw_1.info)\n",
    "\n",
    "raw_1.plot_psd(area_mode='range', tmax=10.0, picks=picks)\n",
    "raw_1_filt.plot_psd(area_mode='range', tmax=10.0, picks=picks)"
   ]
  },
  {
   "cell_type": "markdown",
   "metadata": {},
   "source": [
    "## Keeping only low frequencies"
   ]
  },
  {
   "cell_type": "code",
   "execution_count": null,
   "metadata": {
    "ExecuteTime": {
     "end_time": "2019-03-19T21:16:19.752877Z",
     "start_time": "2019-03-19T21:16:18.239614Z"
    }
   },
   "outputs": [],
   "source": [
    "filtered_data = filter_data(raw_1_filt.get_data(), sf_1, l_freq=2, h_freq=60, picks=picks, filter_length='auto', phase='zero')\n",
    "raw_1_filt = mne.io.RawArray(filtered_data, raw_1.info)\n",
    "raw_1_filt.plot_psd(area_mode='range', tmax=10.0, picks=picks, fmax=60)"
   ]
  },
  {
   "cell_type": "code",
   "execution_count": null,
   "metadata": {},
   "outputs": [],
   "source": []
  }
 ],
 "metadata": {
  "kernelspec": {
   "display_name": "Python 3",
   "language": "python",
   "name": "python3"
  },
  "language_info": {
   "codemirror_mode": {
    "name": "ipython",
    "version": 3
   },
   "file_extension": ".py",
   "mimetype": "text/x-python",
   "name": "python",
   "nbconvert_exporter": "python",
   "pygments_lexer": "ipython3",
   "version": "3.7.1"
  },
  "toc": {
   "base_numbering": 1,
   "nav_menu": {},
   "number_sections": true,
   "sideBar": true,
   "skip_h1_title": false,
   "title_cell": "Table of Contents",
   "title_sidebar": "Contents",
   "toc_cell": false,
   "toc_position": {
    "height": "calc(100% - 180px)",
    "left": "10px",
    "top": "150px",
    "width": "165px"
   },
   "toc_section_display": true,
   "toc_window_display": true
  }
 },
 "nbformat": 4,
 "nbformat_minor": 2
}
