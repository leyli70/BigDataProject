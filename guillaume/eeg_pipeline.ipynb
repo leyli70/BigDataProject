{
 "cells": [
  {
   "cell_type": "markdown",
   "metadata": {},
   "source": [
    "# Imports"
   ]
  },
  {
   "cell_type": "code",
   "execution_count": null,
   "metadata": {
    "ExecuteTime": {
     "end_time": "2019-03-20T14:29:54.935331Z",
     "start_time": "2019-03-20T14:29:54.926889Z"
    }
   },
   "outputs": [],
   "source": [
    "import numpy as np\n",
    "import pandas as pd\n",
    "import matplotlib.pyplot as plt\n",
    "\n",
    "import itertools\n",
    "from itertools import cycle\n",
    "\n",
    "from sklearn.ensemble import RandomForestClassifier\n",
    "from sklearn.metrics import roc_curve, auc, confusion_matrix\n",
    "from sklearn.model_selection import train_test_split\n",
    "from sklearn.preprocessing import label_binarize\n",
    "from sklearn.multiclass import OneVsRestClassifier\n",
    "from scipy import interp\n",
    "\n",
    "import mne\n",
    "from mne.io import read_raw_edf\n",
    "from mne.filter import notch_filter, filter_data\n",
    "\n",
    "from scipy.signal import periodogram\n",
    "\n",
    "import xgboost as xgb"
   ]
  },
  {
   "cell_type": "markdown",
   "metadata": {},
   "source": [
    "# Config"
   ]
  },
  {
   "cell_type": "code",
   "execution_count": null,
   "metadata": {
    "ExecuteTime": {
     "end_time": "2019-03-20T12:33:29.259340Z",
     "start_time": "2019-03-20T12:33:29.253545Z"
    }
   },
   "outputs": [],
   "source": [
    "class Config:\n",
    "    def __init__(self, data_path='/Users/guillaumecorda/Desktop/UvA/Big Data/Project/data/'):\n",
    "        self.data_path = data_path"
   ]
  },
  {
   "cell_type": "code",
   "execution_count": null,
   "metadata": {
    "ExecuteTime": {
     "end_time": "2019-03-20T12:33:29.341230Z",
     "start_time": "2019-03-20T12:33:29.336607Z"
    }
   },
   "outputs": [],
   "source": [
    "cfg = Config()"
   ]
  },
  {
   "cell_type": "markdown",
   "metadata": {},
   "source": [
    "# Metadata"
   ]
  },
  {
   "cell_type": "markdown",
   "metadata": {},
   "source": [
    "**File Name: chb01_01.edf**\n",
    "* File Start Time: 11:42:54\n",
    "* File End Time: 12:42:54\n",
    "* Number of Seizures in File: 0\n",
    "\n",
    "**File Name: chb01_02.edf**\n",
    "* File Start Time: 12:42:57\n",
    "* File End Time: 13:42:57\n",
    "* Number of Seizures in File: 0\n",
    "\n",
    "**File Name: chb01_03.edf**\n",
    "* File Start Time: 13:43:04\n",
    "* File End Time: 14:43:04\n",
    "* Number of Seizures in File: 1\n",
    "* Seizure Start Time: 2996 seconds\n",
    "* Seizure End Time: 3036 seconds\n",
    "\n",
    "**File Name: chb01_04.edf**\n",
    "* File Start Time: 14:43:12\n",
    "* File End Time: 15:43:12\n",
    "* Number of Seizures in File: 1\n",
    "* Seizure Start Time: 1467 seconds\n",
    "* Seizure End Time: 1494 seconds\n",
    "\n",
    "**File Name: chb01_15.edf**\n",
    "* File Start Time: 01:44:44\n",
    "* File End Time: 2:44:44\n",
    "* Number of Seizures in File: 1\n",
    "* Seizure Start Time: 1732 seconds\n",
    "* Seizure End Time: 1772 seconds\n",
    "\n",
    "**File Name: chb01_18.edf**\n",
    "* File Start Time: 04:45:06\n",
    "* File End Time: 5:45:06\n",
    "* Number of Seizures in File: 1\n",
    "* Seizure Start Time: 1720 seconds\n",
    "* Seizure End Time: 1810 seconds\n",
    "\n",
    "**File Name: chb01_21.edf**\n",
    "* File Start Time: 07:33:46\n",
    "* File End Time: 8:33:46\n",
    "* Number of Seizures in File: 1\n",
    "* Seizure Start Time: 327 seconds\n",
    "* Seizure End Time: 420 seconds*"
   ]
  },
  {
   "cell_type": "markdown",
   "metadata": {},
   "source": [
    "# Load data"
   ]
  },
  {
   "cell_type": "code",
   "execution_count": null,
   "metadata": {
    "ExecuteTime": {
     "end_time": "2019-03-20T14:35:01.795892Z",
     "start_time": "2019-03-20T14:34:57.779044Z"
    },
    "scrolled": true
   },
   "outputs": [],
   "source": [
    "raw_1 = read_raw_edf(cfg.data_path+'chb01_01.edf', preload=True)\n",
    "raw_2 = read_raw_edf(cfg.data_path+'chb01_02.edf', preload=True)\n",
    "raw_3 = read_raw_edf(cfg.data_path+'chb01_03.edf', preload=True)\n",
    "raw_4 = read_raw_edf(cfg.data_path+'chb01_04.edf', preload=True)\n",
    "\n",
    "raw_15 = read_raw_edf(cfg.data_path+'chb01_15.edf', preload=True)\n",
    "raw_18 = read_raw_edf(cfg.data_path+'chb01_18.edf', preload=True)\n",
    "raw_21 = read_raw_edf(cfg.data_path+'chb01_21.edf', preload=True)"
   ]
  },
  {
   "cell_type": "code",
   "execution_count": null,
   "metadata": {
    "ExecuteTime": {
     "end_time": "2019-03-20T14:35:26.460175Z",
     "start_time": "2019-03-20T14:35:26.359988Z"
    },
    "scrolled": true
   },
   "outputs": [],
   "source": [
    "raw_1.set_eeg_reference('average', projection=True)  # set EEG average reference\n",
    "raw_2.set_eeg_reference('average', projection=True)  # set EEG average reference\n",
    "raw_3.set_eeg_reference('average', projection=True)  # set EEG average reference\n",
    "raw_4.set_eeg_reference('average', projection=True)  # set EEG average reference\n",
    "\n",
    "raw_15.set_eeg_reference('average', projection=True)  # set EEG average reference\n",
    "raw_18.set_eeg_reference('average', projection=True)  # set EEG average reference\n",
    "raw_21.set_eeg_reference('average', projection=True)  # set EEG average reference"
   ]
  },
  {
   "cell_type": "code",
   "execution_count": null,
   "metadata": {
    "ExecuteTime": {
     "end_time": "2019-03-20T12:33:32.641932Z",
     "start_time": "2019-03-20T12:33:31.697519Z"
    },
    "scrolled": true
   },
   "outputs": [],
   "source": [
    "raw_1.plot(block=True, lowpass=40)"
   ]
  },
  {
   "cell_type": "code",
   "execution_count": null,
   "metadata": {
    "ExecuteTime": {
     "end_time": "2019-03-20T12:33:34.926501Z",
     "start_time": "2019-03-20T12:33:32.645544Z"
    },
    "scrolled": true
   },
   "outputs": [],
   "source": [
    "for raw in [raw_1, raw_2, raw_3, raw_4]:\n",
    "    fmin, fmax = 2, 300  # look at frequencies between 2 and 300Hz\n",
    "    n_fft = 2048  # the FFT size (n_fft). Ideally a power of 2\n",
    "\n",
    "    picks = mne.pick_types(raw.info, eeg=True, eog=False, stim=False, exclude='bads')\n",
    "\n",
    "    # Let's first check out all channel types\n",
    "    raw.plot_psd(area_mode='range', tmax=10.0, picks=picks)"
   ]
  },
  {
   "cell_type": "markdown",
   "metadata": {
    "ExecuteTime": {
     "end_time": "2019-03-19T15:14:01.312203Z",
     "start_time": "2019-03-19T15:14:01.306549Z"
    }
   },
   "source": [
    "# Helper functions"
   ]
  },
  {
   "cell_type": "code",
   "execution_count": null,
   "metadata": {
    "ExecuteTime": {
     "end_time": "2019-03-20T12:33:34.936778Z",
     "start_time": "2019-03-20T12:33:34.932379Z"
    }
   },
   "outputs": [],
   "source": [
    "def get_sampl_freq(raw):\n",
    "    return raw.info['sfreq']"
   ]
  },
  {
   "cell_type": "code",
   "execution_count": null,
   "metadata": {
    "ExecuteTime": {
     "end_time": "2019-03-20T12:33:34.950524Z",
     "start_time": "2019-03-20T12:33:34.942569Z"
    }
   },
   "outputs": [],
   "source": [
    "def get_channels_names(raw):\n",
    "    return raw.info['ch_names']"
   ]
  },
  {
   "cell_type": "code",
   "execution_count": null,
   "metadata": {
    "ExecuteTime": {
     "end_time": "2019-03-20T14:35:46.698489Z",
     "start_time": "2019-03-20T14:35:46.685949Z"
    }
   },
   "outputs": [],
   "source": [
    "sf_1 = get_sampl_freq(raw_1)\n",
    "sf_2 = get_sampl_freq(raw_2)\n",
    "sf_3 = get_sampl_freq(raw_3)\n",
    "sf_4 = get_sampl_freq(raw_4)\n",
    "\n",
    "sf_15 = get_sampl_freq(raw_15)\n",
    "sf_18 = get_sampl_freq(raw_18)\n",
    "sf_21 = get_sampl_freq(raw_21)"
   ]
  },
  {
   "cell_type": "code",
   "execution_count": null,
   "metadata": {
    "ExecuteTime": {
     "end_time": "2019-03-20T14:35:58.934586Z",
     "start_time": "2019-03-20T14:35:58.922846Z"
    }
   },
   "outputs": [],
   "source": [
    "ch_1 = get_channels_names(raw_1)\n",
    "ch_2 = get_channels_names(raw_2)\n",
    "ch_3 = get_channels_names(raw_3)\n",
    "ch_4 = get_channels_names(raw_4)\n",
    "\n",
    "ch_15 = get_channels_names(raw_15)\n",
    "ch_18 = get_channels_names(raw_18)\n",
    "ch_21 = get_channels_names(raw_21)"
   ]
  },
  {
   "cell_type": "markdown",
   "metadata": {},
   "source": [
    "# Preprocessing"
   ]
  },
  {
   "cell_type": "markdown",
   "metadata": {},
   "source": [
    "## Removing power line frequency"
   ]
  },
  {
   "cell_type": "code",
   "execution_count": null,
   "metadata": {
    "ExecuteTime": {
     "end_time": "2019-03-20T14:37:37.598279Z",
     "start_time": "2019-03-20T14:37:29.154522Z"
    },
    "scrolled": true
   },
   "outputs": [],
   "source": [
    "#Record 1\n",
    "filtered_data_1 = notch_filter(raw_1.get_data(), sf_1, np.arange(48, 52, 4000),\n",
    "                             picks=picks, filter_length='auto', phase='zero')\n",
    "raw_1_filt = mne.io.RawArray(filtered_data_1, raw_1.info)\n",
    "\n",
    "#raw_1.plot_psd(area_mode='range', tmax=10.0, picks=picks)\n",
    "raw_1_filt.plot_psd(area_mode='range', tmax=10.0, picks=picks)\n",
    "\n",
    "#Record 2\n",
    "filtered_data_2 = notch_filter(raw_2.get_data(), sf_3, np.arange(48, 52, 4000),\n",
    "                             picks=picks, filter_length='auto', phase='zero')\n",
    "raw_2_filt = mne.io.RawArray(filtered_data_2, raw_2.info)\n",
    "\n",
    "#Record 3\n",
    "filtered_data_3 = notch_filter(raw_3.get_data(), sf_3, np.arange(48, 52, 4000),\n",
    "                             picks=picks, filter_length='auto', phase='zero')\n",
    "raw_3_filt = mne.io.RawArray(filtered_data_3, raw_3.info)\n",
    "\n",
    "#Record 4\n",
    "filtered_data_4 = notch_filter(raw_4.get_data(), sf_4, np.arange(48, 52, 4000),\n",
    "                             picks=picks, filter_length='auto', phase='zero')\n",
    "raw_4_filt = mne.io.RawArray(filtered_data_4, raw_4.info)\n",
    "\n",
    "#Record 15\n",
    "filtered_data_15 = notch_filter(raw_15.get_data(), sf_15, np.arange(48, 52, 4000),\n",
    "                             picks=picks, filter_length='auto', phase='zero')\n",
    "raw_15_filt = mne.io.RawArray(filtered_data_15, raw_15.info)\n",
    "\n",
    "#Record 18\n",
    "filtered_data_18 = notch_filter(raw_18.get_data(), sf_18, np.arange(48, 52, 4000),\n",
    "                             picks=picks, filter_length='auto', phase='zero')\n",
    "raw_18_filt = mne.io.RawArray(filtered_data_18, raw_18.info)\n",
    "\n",
    "#Record 4\n",
    "filtered_data_21 = notch_filter(raw_21.get_data(), sf_21, np.arange(48, 52, 4000),\n",
    "                             picks=picks, filter_length='auto', phase='zero')\n",
    "raw_21_filt = mne.io.RawArray(filtered_data_21, raw_21.info)"
   ]
  },
  {
   "cell_type": "markdown",
   "metadata": {},
   "source": [
    "## Keeping only low frequencies"
   ]
  },
  {
   "cell_type": "code",
   "execution_count": null,
   "metadata": {
    "ExecuteTime": {
     "end_time": "2019-03-20T14:38:33.632446Z",
     "start_time": "2019-03-20T14:38:26.450326Z"
    },
    "scrolled": true
   },
   "outputs": [],
   "source": [
    "#Record 1\n",
    "filtered_data_1 = filter_data(raw_1_filt.get_data(), sf_1, l_freq=2, h_freq=60,\n",
    "                              picks=picks, filter_length='auto', phase='zero')\n",
    "raw_1_filt = mne.io.RawArray(filtered_data_1, raw_1.info)\n",
    "raw_1_filt.plot_psd(area_mode='range', tmax=10.0, picks=picks, fmax=60)\n",
    "\n",
    "#Record 2\n",
    "filtered_data_2 = filter_data(raw_2_filt.get_data(), sf_2, l_freq=2, h_freq=60,\n",
    "                              picks=picks, filter_length='auto', phase='zero')\n",
    "raw_2_filt = mne.io.RawArray(filtered_data_2, raw_2.info)\n",
    "\n",
    "#Record 3\n",
    "filtered_data_3 = filter_data(raw_3_filt.get_data(), sf_3, l_freq=2, h_freq=60,\n",
    "                              picks=picks, filter_length='auto', phase='zero')\n",
    "raw_3_filt = mne.io.RawArray(filtered_data_3, raw_3.info)\n",
    "\n",
    "#Record 4\n",
    "filtered_data_4 = filter_data(raw_4_filt.get_data(), sf_4, l_freq=2, h_freq=60,\n",
    "                              picks=picks, filter_length='auto', phase='zero')\n",
    "raw_4_filt = mne.io.RawArray(filtered_data_4, raw_4.info)\n",
    "\n",
    "#Record 15\n",
    "filtered_data_15 = filter_data(raw_15_filt.get_data(), sf_15, l_freq=2, h_freq=60,\n",
    "                              picks=picks, filter_length='auto', phase='zero')\n",
    "raw_15_filt = mne.io.RawArray(filtered_data_15, raw_15.info)\n",
    "\n",
    "#Record 18\n",
    "filtered_data_18 = filter_data(raw_18_filt.get_data(), sf_18, l_freq=2, h_freq=60,\n",
    "                              picks=picks, filter_length='auto', phase='zero')\n",
    "raw_18_filt = mne.io.RawArray(filtered_data_18, raw_18.info)\n",
    "\n",
    "#Record 21\n",
    "filtered_data_21 = filter_data(raw_21_filt.get_data(), sf_21, l_freq=2, h_freq=60,\n",
    "                              picks=picks, filter_length='auto', phase='zero')\n",
    "raw_21_filt = mne.io.RawArray(filtered_data_21, raw_21.info)"
   ]
  },
  {
   "cell_type": "markdown",
   "metadata": {},
   "source": [
    "# Extracting features"
   ]
  },
  {
   "cell_type": "markdown",
   "metadata": {},
   "source": [
    "## Computing PSD"
   ]
  },
  {
   "cell_type": "code",
   "execution_count": null,
   "metadata": {
    "ExecuteTime": {
     "end_time": "2019-03-20T14:39:45.772356Z",
     "start_time": "2019-03-20T14:39:37.761271Z"
    }
   },
   "outputs": [],
   "source": [
    "f_1, psd_1 = periodogram(raw_1_filt.get_data(), sf_1)\n",
    "f_2, psd_2 = periodogram(raw_2_filt.get_data(), sf_2)\n",
    "f_3, psd_3 = periodogram(raw_3_filt.get_data(), sf_3)\n",
    "f_4, psd_4 = periodogram(raw_4_filt.get_data(), sf_4)\n",
    "\n",
    "f_15, psd_15 = periodogram(raw_15_filt.get_data(), sf_15)\n",
    "f_18, psd_18 = periodogram(raw_18_filt.get_data(), sf_18)\n",
    "f_21, psd_21 = periodogram(raw_21_filt.get_data(), sf_21)"
   ]
  },
  {
   "cell_type": "code",
   "execution_count": null,
   "metadata": {
    "ExecuteTime": {
     "end_time": "2019-03-20T14:39:45.796534Z",
     "start_time": "2019-03-20T14:39:45.776290Z"
    }
   },
   "outputs": [],
   "source": [
    "df_1 = pd.DataFrame(np.transpose(psd_1), columns=ch_1)\n",
    "df_2 = pd.DataFrame(np.transpose(psd_2), columns=ch_2)\n",
    "df_3 = pd.DataFrame(np.transpose(psd_3), columns=ch_3)\n",
    "df_4 = pd.DataFrame(np.transpose(psd_4), columns=ch_4)\n",
    "\n",
    "df_15 = pd.DataFrame(np.transpose(psd_15), columns=ch_15)\n",
    "df_18 = pd.DataFrame(np.transpose(psd_18), columns=ch_18)\n",
    "df_21 = pd.DataFrame(np.transpose(psd_21), columns=ch_21)"
   ]
  },
  {
   "cell_type": "code",
   "execution_count": null,
   "metadata": {
    "ExecuteTime": {
     "end_time": "2019-03-20T13:00:42.219145Z",
     "start_time": "2019-03-20T13:00:42.173609Z"
    }
   },
   "outputs": [],
   "source": [
    "df_1.head()"
   ]
  },
  {
   "cell_type": "markdown",
   "metadata": {},
   "source": [
    "# Label data"
   ]
  },
  {
   "cell_type": "code",
   "execution_count": null,
   "metadata": {
    "ExecuteTime": {
     "end_time": "2019-03-20T14:41:45.856012Z",
     "start_time": "2019-03-20T14:41:45.448342Z"
    }
   },
   "outputs": [],
   "source": [
    "#No seizure\n",
    "df_1['label'] = 0\n",
    "df_2['label'] = 0\n",
    "\n",
    "#Seizures\n",
    "df_3['label'] = 0\n",
    "df_3.loc[2996:3037, 'label'] = 1\n",
    "\n",
    "df_4['label'] = 0\n",
    "df_4.loc[1467:1494, 'label'] = 1\n",
    "\n",
    "df_15['label'] = 0\n",
    "df_15.loc[1732:1772, 'label'] = 1\n",
    "\n",
    "df_18['label'] = 0\n",
    "df_18.loc[1720:1810, 'label'] = 1\n",
    "\n",
    "df_21['label'] = 0\n",
    "df_21.loc[327:420, 'label'] = 1"
   ]
  },
  {
   "cell_type": "code",
   "execution_count": null,
   "metadata": {
    "ExecuteTime": {
     "end_time": "2019-03-20T14:42:41.569493Z",
     "start_time": "2019-03-20T14:42:41.551667Z"
    }
   },
   "outputs": [],
   "source": [
    "df_15['label'].value_counts()"
   ]
  },
  {
   "cell_type": "code",
   "execution_count": null,
   "metadata": {
    "ExecuteTime": {
     "end_time": "2019-03-20T14:44:12.987746Z",
     "start_time": "2019-03-20T14:44:12.963745Z"
    }
   },
   "outputs": [],
   "source": [
    "df_18['label'].value_counts()"
   ]
  },
  {
   "cell_type": "markdown",
   "metadata": {},
   "source": [
    "# Create final dataset"
   ]
  },
  {
   "cell_type": "code",
   "execution_count": null,
   "metadata": {
    "ExecuteTime": {
     "end_time": "2019-03-20T14:44:43.755983Z",
     "start_time": "2019-03-20T14:44:41.271848Z"
    }
   },
   "outputs": [],
   "source": [
    "#Train only on records with seizure\n",
    "df = pd.concat([df_3, df_4, df_15, df_18])"
   ]
  },
  {
   "cell_type": "markdown",
   "metadata": {},
   "source": [
    "# Models"
   ]
  },
  {
   "cell_type": "markdown",
   "metadata": {},
   "source": [
    "## XGBoost"
   ]
  },
  {
   "cell_type": "markdown",
   "metadata": {},
   "source": [
    "### Train"
   ]
  },
  {
   "cell_type": "code",
   "execution_count": null,
   "metadata": {
    "ExecuteTime": {
     "end_time": "2019-03-20T14:55:37.597611Z",
     "start_time": "2019-03-20T14:55:37.543358Z"
    }
   },
   "outputs": [],
   "source": [
    "df['label'].value_counts()"
   ]
  },
  {
   "cell_type": "code",
   "execution_count": null,
   "metadata": {
    "ExecuteTime": {
     "end_time": "2019-03-20T14:55:46.198081Z",
     "start_time": "2019-03-20T14:55:46.192069Z"
    }
   },
   "outputs": [],
   "source": [
    "scale_pos_weight = 1843002/202\n",
    "scale_pos_weight"
   ]
  },
  {
   "cell_type": "code",
   "execution_count": null,
   "metadata": {
    "ExecuteTime": {
     "end_time": "2019-03-20T14:54:17.678233Z",
     "start_time": "2019-03-20T14:45:48.027309Z"
    }
   },
   "outputs": [],
   "source": [
    "clf = xgb.XGBClassifier(eval_metric ='auc', scale_pos_weight=scale_pos_weight)\n",
    "clf.fit(df.drop('label', axis=1), df['label'])"
   ]
  },
  {
   "cell_type": "markdown",
   "metadata": {},
   "source": [
    "### Predict"
   ]
  },
  {
   "cell_type": "code",
   "execution_count": null,
   "metadata": {
    "ExecuteTime": {
     "end_time": "2019-03-20T14:54:19.384159Z",
     "start_time": "2019-03-20T14:54:17.686662Z"
    }
   },
   "outputs": [],
   "source": [
    "pred_xgb = clf.predict(df_21.drop('label', axis=1))"
   ]
  },
  {
   "cell_type": "code",
   "execution_count": null,
   "metadata": {
    "ExecuteTime": {
     "end_time": "2019-03-20T14:54:19.473041Z",
     "start_time": "2019-03-20T14:54:19.388201Z"
    }
   },
   "outputs": [],
   "source": [
    "set(pred_xgb)"
   ]
  },
  {
   "cell_type": "markdown",
   "metadata": {},
   "source": [
    "### ROC curve + Confusion Matrix"
   ]
  },
  {
   "cell_type": "code",
   "execution_count": null,
   "metadata": {
    "ExecuteTime": {
     "end_time": "2019-03-20T14:54:19.909887Z",
     "start_time": "2019-03-20T14:54:19.480656Z"
    }
   },
   "outputs": [],
   "source": [
    "# Compute ROC curve and ROC area for each class\n",
    "fpr = dict()\n",
    "tpr = dict()\n",
    "roc_auc = dict()\n",
    "fpr, tpr, _ = roc_curve(df_4['label'], pred_xgb)\n",
    "roc_auc = auc(fpr, tpr)\n",
    "\n",
    "\n",
    "plt.figure()\n",
    "lw = 2\n",
    "plt.plot(fpr, tpr, color='darkorange',\n",
    "         lw=lw, label='ROC curve (area = %0.2f)' % roc_auc)\n",
    "plt.plot([0, 1], [0, 1], color='navy', lw=lw, linestyle='--')\n",
    "plt.xlim([0.0, 1.0])\n",
    "plt.ylim([0.0, 1.05])\n",
    "plt.xlabel('False Positive Rate')\n",
    "plt.ylabel('True Positive Rate')\n",
    "plt.title('Receiver operating characteristic example')\n",
    "plt.legend(loc=\"lower right\")\n",
    "plt.show()"
   ]
  },
  {
   "cell_type": "code",
   "execution_count": null,
   "metadata": {
    "ExecuteTime": {
     "end_time": "2019-03-20T14:54:19.950611Z",
     "start_time": "2019-03-20T14:54:19.916384Z"
    }
   },
   "outputs": [],
   "source": [
    "def plot_confusion_matrix(cm, classes,\n",
    "                          normalize=False,\n",
    "                          title='Confusion matrix',\n",
    "                          cmap=plt.cm.Blues):\n",
    "    \"\"\"\n",
    "     Normalization can be applied by setting `normalize=True`.\n",
    "    \"\"\"\n",
    "    if normalize:\n",
    "        cm = cm.astype('float') / cm.sum(axis=1)[:, np.newaxis]\n",
    "        print(\"Normalized confusion matrix\")\n",
    "    else:\n",
    "        print('Confusion matrix, without normalization')\n",
    "\n",
    "    print(cm)\n",
    "\n",
    "    plt.imshow(cm, interpolation='nearest', cmap=cmap)\n",
    "    plt.title(title)\n",
    "    plt.colorbar()\n",
    "    tick_marks = np.arange(len(classes))\n",
    "    plt.xticks(tick_marks, classes, rotation=45)\n",
    "    plt.yticks(tick_marks, classes)\n",
    "\n",
    "    fmt = '.2f' if normalize else 'd'\n",
    "    thresh = cm.max() / 2.\n",
    "    for i, j in itertools.product(range(cm.shape[0]), range(cm.shape[1])):\n",
    "        plt.text(j, i, format(cm[i, j], fmt),\n",
    "                 horizontalalignment=\"center\",\n",
    "                 color=\"white\" if cm[i, j] > thresh else \"black\")\n",
    "\n",
    "    plt.tight_layout()\n",
    "    plt.ylabel('True label')\n",
    "    plt.xlabel('Predicted label')\n",
    "\n",
    "    plt.show()"
   ]
  },
  {
   "cell_type": "code",
   "execution_count": null,
   "metadata": {
    "ExecuteTime": {
     "end_time": "2019-03-20T14:54:20.672883Z",
     "start_time": "2019-03-20T14:54:19.954134Z"
    }
   },
   "outputs": [],
   "source": [
    "class_names={'Label 0', 'Label 1'}\n",
    "    \n",
    "# Compute confusion matrix\n",
    "cnf_matrix = confusion_matrix(df_4['label'], pred_xgb)\n",
    "np.set_printoptions(precision=2)\n",
    "\n",
    "\n",
    "# Plot non-normalized confusion matrix\n",
    "plt.figure()\n",
    "plot_confusion_matrix(cnf_matrix, classes=class_names,\n",
    "                      title='Confusion matrix')"
   ]
  },
  {
   "cell_type": "markdown",
   "metadata": {},
   "source": [
    "## Random Forest"
   ]
  },
  {
   "cell_type": "code",
   "execution_count": null,
   "metadata": {},
   "outputs": [],
   "source": []
  },
  {
   "cell_type": "markdown",
   "metadata": {},
   "source": [
    "## SVM"
   ]
  },
  {
   "cell_type": "code",
   "execution_count": null,
   "metadata": {},
   "outputs": [],
   "source": []
  }
 ],
 "metadata": {
  "kernelspec": {
   "display_name": "Python 3",
   "language": "python",
   "name": "python3"
  },
  "language_info": {
   "codemirror_mode": {
    "name": "ipython",
    "version": 3
   },
   "file_extension": ".py",
   "mimetype": "text/x-python",
   "name": "python",
   "nbconvert_exporter": "python",
   "pygments_lexer": "ipython3",
   "version": "3.7.1"
  },
  "toc": {
   "base_numbering": 1,
   "nav_menu": {},
   "number_sections": true,
   "sideBar": true,
   "skip_h1_title": false,
   "title_cell": "Table of Contents",
   "title_sidebar": "Contents",
   "toc_cell": false,
   "toc_position": {
    "height": "calc(100% - 180px)",
    "left": "10px",
    "top": "150px",
    "width": "165px"
   },
   "toc_section_display": true,
   "toc_window_display": true
  }
 },
 "nbformat": 4,
 "nbformat_minor": 2
}
