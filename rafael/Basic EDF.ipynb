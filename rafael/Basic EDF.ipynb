{
 "cells": [
  {
   "cell_type": "markdown",
   "metadata": {},
   "source": [
    "# Epilepsy EEG Analysis\n",
    "\n",
    "## 1. Reading EDF Data"
   ]
  },
  {
   "cell_type": "code",
   "execution_count": null,
   "metadata": {
    "ExecuteTime": {
     "end_time": "2019-03-19T14:19:06.986348Z",
     "start_time": "2019-03-19T14:19:04.112919Z"
    }
   },
   "outputs": [],
   "source": [
    "#pip install pyedflib\n",
    "\n",
    "import pyedflib\n",
    "import numpy as np\n",
    "\n",
    "#downloaded from https://physionet.org/pn6/chbmit/chb01/\n",
    "\n",
    "f = pyedflib.EdfReader(\"/chb01_01.edf\")\n",
    "n = f.signals_in_file\n",
    "signal_labels = f.getSignalLabels()\n",
    "sigbufs = np.zeros((n, f.getNSamples()[0]))\n",
    "for i in np.arange(n):\n",
    "    sigbufs[i, :] = f.readSignal(i)"
   ]
  },
  {
   "cell_type": "markdown",
   "metadata": {},
   "source": [
    "## 2. Plotting First 5 Channels\n",
    "### Non-Seizure Episode"
   ]
  },
  {
   "cell_type": "code",
   "execution_count": null,
   "metadata": {
    "ExecuteTime": {
     "end_time": "2019-03-19T14:19:08.289906Z",
     "start_time": "2019-03-19T14:19:07.716184Z"
    }
   },
   "outputs": [],
   "source": [
    "import matplotlib.pyplot as plt\n",
    "%matplotlib inline"
   ]
  },
  {
   "cell_type": "code",
   "execution_count": null,
   "metadata": {
    "ExecuteTime": {
     "end_time": "2019-03-19T14:19:12.458961Z",
     "start_time": "2019-03-19T14:19:08.293157Z"
    }
   },
   "outputs": [],
   "source": [
    "plt.figure(figsize=(20,5))\n",
    "\n",
    "#X dimension is the ECG channel\n",
    "\n",
    "plt.plot(sigbufs[0])\n",
    "plt.plot(sigbufs[1])\n",
    "plt.plot(sigbufs[2])\n",
    "plt.plot(sigbufs[3])\n",
    "plt.plot(sigbufs[4])\n",
    "plt.plot(sigbufs[5])"
   ]
  },
  {
   "cell_type": "markdown",
   "metadata": {},
   "source": [
    "## 3. Seizure Episode"
   ]
  },
  {
   "cell_type": "code",
   "execution_count": null,
   "metadata": {
    "ExecuteTime": {
     "end_time": "2019-03-19T14:20:18.435282Z",
     "start_time": "2019-03-19T14:20:18.229878Z"
    }
   },
   "outputs": [],
   "source": [
    "#downloaded from https://physionet.org/pn6/chbmit/chb01/\n",
    "\n",
    "'''File Name: chb01_04.edf\n",
    "File Start Time: 14:43:12\n",
    "File End Time: 15:43:12\n",
    "Number of Seizures in File: 1\n",
    "Seizure Start Time: 1467 seconds\n",
    "Seizure End Time: 1494 seconds'''\n",
    "\n",
    "f = pyedflib.EdfReader(\"/Users/guillaumecorda/Desktop/UvA/Big Data/Project/data/chb01_04.edf\")\n",
    "n = f.signals_in_file\n",
    "signal_labels = f.getSignalLabels()\n",
    "sigbufs = np.zeros((n, f.getNSamples()[0]))\n",
    "for i in np.arange(n):\n",
    "    sigbufs[i, :] = f.readSignal(i)"
   ]
  },
  {
   "cell_type": "code",
   "execution_count": null,
   "metadata": {
    "ExecuteTime": {
     "end_time": "2019-03-19T14:19:12.510395Z",
     "start_time": "2019-03-19T14:19:08.339Z"
    }
   },
   "outputs": [],
   "source": [
    "#rolling average\n",
    "\n",
    "def moving_average(a, n=3) :\n",
    "    ret = np.cumsum(a, dtype=float)\n",
    "    ret[n:] = ret[n:] - ret[:-n]\n",
    "    return ret[n - 1:] / n"
   ]
  },
  {
   "cell_type": "markdown",
   "metadata": {},
   "source": [
    "## 4. Plotting First 5 Channels, Seizure Episode and Rolling Averages"
   ]
  },
  {
   "cell_type": "code",
   "execution_count": null,
   "metadata": {},
   "outputs": [],
   "source": [
    "fig, ax = plt.subplots(3,1, figsize=(20,15))\n",
    "\n",
    "#X dimension is the ECG channel\n",
    "\n",
    "ax[0].plot(sigbufs[0], label='channel 1')\n",
    "ax[0].plot(sigbufs[1], label='channel 2')\n",
    "ax[0].plot(sigbufs[2], label='channel 3')\n",
    "ax[0].plot(sigbufs[3], label='channel 4')\n",
    "ax[0].plot(sigbufs[4], label='channel 5')\n",
    "ax[0].plot(sigbufs[5], label='channel 6')\n",
    "\n",
    "ax[0].annotate('seizure starts', xy=(1467*250, 200), xytext=(1467*170, 300),\n",
    "            arrowprops=dict(facecolor='black', shrink=0.05),\n",
    "            )\n",
    "\n",
    "ax[0].annotate('seizure ends', xy=(1494*250, 200), xytext=(1494*270, 300),\n",
    "            arrowprops=dict(facecolor='black', shrink=0.05),\n",
    "            )\n",
    "\n",
    "ax[1].plot(moving_average(sigbufs[0], n=100000), label='channel 1')\n",
    "ax[1].plot(moving_average(sigbufs[1], n=100000), label='channel 2')\n",
    "ax[1].plot(moving_average(sigbufs[2], n=100000), label='channel 3')\n",
    "ax[1].plot(moving_average(sigbufs[3], n=100000), label='channel 4')\n",
    "ax[1].plot(moving_average(sigbufs[4], n=100000), label='channel 5')\n",
    "ax[1].plot(moving_average(sigbufs[5], n=100000), label='channel 6')\n",
    "\n",
    "ax[2].plot(moving_average(sigbufs[0], n=200000), label='channel 1')\n",
    "\n",
    "plt.legend()"
   ]
  },
  {
   "cell_type": "markdown",
   "metadata": {},
   "source": [
    "## 5. Plotting Channel 5 and Rolling Averages"
   ]
  },
  {
   "cell_type": "code",
   "execution_count": null,
   "metadata": {},
   "outputs": [],
   "source": [
    "fig, ax = plt.subplots(3,1, figsize=(20,15))\n",
    "\n",
    "#X dimension is the ECG channel\n",
    "\n",
    "ax[0].plot(sigbufs[4], label='channel 5')\n",
    "\n",
    "ax[0].annotate('seizure starts', xy=(2996*250, 200), xytext=(2996*260, 300),\n",
    "            arrowprops=dict(facecolor='black', shrink=0.05),\n",
    "            )\n",
    "\n",
    "ax[0].annotate('seizure ends', xy=(3036*250, 200), xytext=(3036*260, 200),\n",
    "            arrowprops=dict(facecolor='black', shrink=0.05),\n",
    "            )\n",
    "\n",
    "ax[1].plot(moving_average(sigbufs[4], n=100000), label='channel 5')\n",
    "\n",
    "ax[2].plot(moving_average(sigbufs[5], n=200000), label='channel 5')\n",
    "\n",
    "plt.legend()"
   ]
  },
  {
   "cell_type": "markdown",
   "metadata": {},
   "source": [
    "## Filtering\n",
    "\n",
    "As seen <a href='http://blog.kaggle.com/2017/01/10/seizure-prediction-competition-3rd-place-winners-interview-gareth-jones/'>here</a>."
   ]
  },
  {
   "cell_type": "markdown",
   "metadata": {},
   "source": [
    "## Low Pass Filter"
   ]
  },
  {
   "cell_type": "code",
   "execution_count": null,
   "metadata": {},
   "outputs": [],
   "source": [
    "fc = 0.002\n",
    "b = 0.0001\n",
    "N = int(np.ceil((4 / b)))\n",
    "if not N % 2: N += 1\n",
    "n = np.arange(N)\n",
    " \n",
    "sinc_func = np.sinc(2 * fc * (n - (N - 1) / 2.))\n",
    "window = 0.42 - 0.5 * np.cos(2 * np.pi * n / (N - 1)) + 0.08 * np.cos(4 * np.pi * n / (N - 1))\n",
    "sinc_func = sinc_func * window\n",
    "sinc_func = sinc_func / np.sum(sinc_func)\n",
    "\n",
    "new_signal = np.convolve(sigbufs[0], sinc_func)"
   ]
  },
  {
   "cell_type": "code",
   "execution_count": null,
   "metadata": {},
   "outputs": [],
   "source": [
    "fig, ax = plt.subplots(2,1, figsize=(20,7))\n",
    "\n",
    "ax[0].plot(sigbufs[0])\n",
    "ax[1].plot(new_signal)"
   ]
  },
  {
   "cell_type": "markdown",
   "metadata": {},
   "source": [
    "## Average Filtering\n",
    "\n",
    "Reference: <a href='https://www.researchgate.net/publication/321944184_Epileptic_Seizures_Prediction_Using_Machine_Learning_Methods'>Epileptic Seizures Prediction Using Machine Learning Methods</a>"
   ]
  },
  {
   "cell_type": "code",
   "execution_count": null,
   "metadata": {},
   "outputs": [],
   "source": [
    "import numpy as np\n",
    "\n",
    "avg_sig = [np.average(channels) for channels in sigbufs in range()]"
   ]
  },
  {
   "cell_type": "code",
   "execution_count": null,
   "metadata": {},
   "outputs": [],
   "source": [
    "matrix = np.matrix(sigbufs)"
   ]
  },
  {
   "cell_type": "code",
   "execution_count": null,
   "metadata": {},
   "outputs": [],
   "source": [
    "avg_freq = np.empty(matrix.shape[1])"
   ]
  },
  {
   "cell_type": "code",
   "execution_count": null,
   "metadata": {},
   "outputs": [],
   "source": [
    "for i in range(0,matrix.shape[1]):\n",
    "    print(i)\n",
    "    avg_freq[i] = ([np.mean(signals) for signals in matrix[:, [i]]][0])"
   ]
  },
  {
   "cell_type": "code",
   "execution_count": null,
   "metadata": {},
   "outputs": [],
   "source": [
    "plt.figure(figsize=(20,5))\n",
    "\n",
    "plt.plot(avg_freq)\n",
    "\n",
    "plt.annotate('seizure starts', xy=(1467*250, 200), xytext=(1467*170, 300),\n",
    "            arrowprops=dict(facecolor='black', shrink=0.05),\n",
    "            )\n",
    "\n",
    "plt.annotate('seizure ends', xy=(1494*250, 200), xytext=(1494*270, 300),\n",
    "            arrowprops=dict(facecolor='black', shrink=0.05),\n",
    "            )"
   ]
  },
  {
   "cell_type": "markdown",
   "metadata": {},
   "source": [
    "## Other Transformations (TODO)\n",
    "\n",
    "References\n",
    "\n",
    "* <a href='https://www.kaggle.com/treina/feature-extractor-matlab2python-translated'>Feature Extraction 1</a>\n",
    "\n",
    "* <a href='https://www.kaggle.com/c/seizure-prediction/discussion/11024'>Feature Extraction 2</a>\n",
    "\n",
    "* <a href='https://www.kaggle.com/c/seizure-detection/discussion/10079'>Feature Extraction 3</a>\n",
    "\n",
    "\n",
    "* Log Transform\n",
    "\n",
    "* 15 seconds windows\n",
    "\n",
    "    * Rolling Average\n",
    "    * Rolling Standard Deviation\n",
    "    * FFT\n",
    "   "
   ]
  },
  {
   "cell_type": "code",
   "execution_count": null,
   "metadata": {},
   "outputs": [],
   "source": [
    "import pandas as pd\n",
    "\n",
    "series_arr = []\n",
    "\n",
    "for i in range(0,23):\n",
    "    series_arr.append(pd.Series(sigbufs[i]))"
   ]
  },
  {
   "cell_type": "markdown",
   "metadata": {},
   "source": [
    "## Log Transform"
   ]
  },
  {
   "cell_type": "code",
   "execution_count": null,
   "metadata": {},
   "outputs": [],
   "source": [
    "plt.figure(figsize=(20,5))\n",
    "\n",
    "for i in range(0,23):\n",
    "    \n",
    "    plt.plot(np.log(series_arr[i]))\n",
    "    \n",
    "plt.annotate('seizure starts', xy=(1467*250, 5), xytext=(1467*170, 6),\n",
    "            arrowprops=dict(facecolor='black', shrink=0.05),\n",
    "            )\n",
    "\n",
    "plt.annotate('seizure ends', xy=(1494*250, 5), xytext=(1494*270, 6),\n",
    "            arrowprops=dict(facecolor='black', shrink=0.05),\n",
    "            )\n",
    "\n",
    "plt.show()"
   ]
  },
  {
   "cell_type": "markdown",
   "metadata": {},
   "source": [
    "## Rolling Skewness"
   ]
  },
  {
   "cell_type": "code",
   "execution_count": null,
   "metadata": {},
   "outputs": [],
   "source": [
    "plt.figure(figsize=(20,5))\n",
    "\n",
    "for i in range(0,23):\n",
    "    \n",
    "    plt.plot(series_arr[i].rolling(window=250*15).skew())\n",
    "\n",
    "plt.annotate('seizure starts', xy=(1467*250, 3), xytext=(1467*170, 4),\n",
    "            arrowprops=dict(facecolor='black', shrink=0.05),\n",
    "            )\n",
    "\n",
    "plt.annotate('seizure ends', xy=(1494*250, 3), xytext=(1494*270, 4),\n",
    "            arrowprops=dict(facecolor='black', shrink=0.05),\n",
    "            )\n",
    "\n",
    "plt.show()"
   ]
  },
  {
   "cell_type": "markdown",
   "metadata": {},
   "source": [
    "## Rolling Kurtosis"
   ]
  },
  {
   "cell_type": "code",
   "execution_count": null,
   "metadata": {},
   "outputs": [],
   "source": [
    "plt.figure(figsize=(20,5))\n",
    "\n",
    "for i in range(0,23):\n",
    "    \n",
    "    plt.plot(series_arr[i].rolling(window=250*15).kurt())\n",
    "\n",
    "plt.annotate('seizure starts', xy=(1467*250, 5), xytext=(1467*170, 30),\n",
    "            arrowprops=dict(facecolor='black', shrink=0.05),\n",
    "            )\n",
    "\n",
    "plt.annotate('seizure ends', xy=(1494*250, 5), xytext=(1494*270, 30),\n",
    "            arrowprops=dict(facecolor='black', shrink=0.05),\n",
    "            )\n",
    "\n",
    "plt.show()"
   ]
  },
  {
   "cell_type": "markdown",
   "metadata": {},
   "source": [
    "## Rolling Mean"
   ]
  },
  {
   "cell_type": "code",
   "execution_count": null,
   "metadata": {},
   "outputs": [],
   "source": [
    "plt.figure(figsize=(20,5))\n",
    "\n",
    "for i in range(0,23):\n",
    "    \n",
    "    plt.plot(series_arr[i].rolling(window=250*15).mean())\n",
    "\n",
    "plt.annotate('seizure starts', xy=(1467*250, 3), xytext=(1467*170, 4),\n",
    "            arrowprops=dict(facecolor='black', shrink=0.05),\n",
    "            )\n",
    "\n",
    "plt.annotate('seizure ends', xy=(1494*250, 3), xytext=(1494*270, 4),\n",
    "            arrowprops=dict(facecolor='black', shrink=0.05),\n",
    "            )\n",
    "\n",
    "plt.show()"
   ]
  },
  {
   "cell_type": "markdown",
   "metadata": {},
   "source": [
    "## Rolling STD"
   ]
  },
  {
   "cell_type": "code",
   "execution_count": null,
   "metadata": {},
   "outputs": [],
   "source": [
    "plt.figure(figsize=(20,5))\n",
    "\n",
    "for i in range(0,23):\n",
    "    \n",
    "    plt.plot(series_arr[i].rolling(window=250*15).std())\n",
    "\n",
    "plt.annotate('seizure starts', xy=(1467*250, 50), xytext=(1467*170, 60),\n",
    "            arrowprops=dict(facecolor='black', shrink=0.05),\n",
    "            )\n",
    "\n",
    "plt.annotate('seizure ends', xy=(1494*250, 50), xytext=(1494*270, 60),\n",
    "            arrowprops=dict(facecolor='black', shrink=0.05),\n",
    "            )\n",
    "\n",
    "plt.show()"
   ]
  },
  {
   "cell_type": "markdown",
   "metadata": {},
   "source": [
    "## Apache Spark (TODO)"
   ]
  },
  {
   "cell_type": "markdown",
   "metadata": {},
   "source": [
    "Reference: <a href='https://www.researchgate.net/publication/301789196_Parallel_Real_Time_Seizure_Detection_in_Large_EEG_Data/'>Parallel Real Time Seizure Detection in Large EEG Data</a>"
   ]
  }
 ],
 "metadata": {
  "kernelspec": {
   "display_name": "Python 3",
   "language": "python",
   "name": "python3"
  },
  "language_info": {
   "codemirror_mode": {
    "name": "ipython",
    "version": 3
   },
   "file_extension": ".py",
   "mimetype": "text/x-python",
   "name": "python",
   "nbconvert_exporter": "python",
   "pygments_lexer": "ipython3",
   "version": "3.7.1"
  },
  "toc": {
   "base_numbering": 1,
   "nav_menu": {},
   "number_sections": true,
   "sideBar": true,
   "skip_h1_title": false,
   "title_cell": "Table of Contents",
   "title_sidebar": "Contents",
   "toc_cell": false,
   "toc_position": {},
   "toc_section_display": true,
   "toc_window_display": false
  }
 },
 "nbformat": 4,
 "nbformat_minor": 2
}
